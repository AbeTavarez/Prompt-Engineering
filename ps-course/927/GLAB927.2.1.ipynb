{
 "cells": [
  {
   "cell_type": "code",
   "execution_count": 6,
   "metadata": {},
   "outputs": [
    {
     "name": "stderr",
     "output_type": "stream",
     "text": [
      "[nltk_data] Downloading package maxent_ne_chunker to\n",
      "[nltk_data]     C:\\Users\\Abraham\\AppData\\Roaming\\nltk_data...\n",
      "[nltk_data]   Package maxent_ne_chunker is already up-to-date!\n",
      "[nltk_data] Downloading package words to\n",
      "[nltk_data]     C:\\Users\\Abraham\\AppData\\Roaming\\nltk_data...\n",
      "[nltk_data]   Package words is already up-to-date!\n",
      "[nltk_data] Downloading package punkt to\n",
      "[nltk_data]     C:\\Users\\Abraham\\AppData\\Roaming\\nltk_data...\n",
      "[nltk_data]   Package punkt is already up-to-date!\n",
      "[nltk_data] Downloading package maxent_ne_chunker_tab to\n",
      "[nltk_data]     C:\\Users\\Abraham\\AppData\\Roaming\\nltk_data...\n",
      "[nltk_data]   Unzipping chunkers\\maxent_ne_chunker_tab.zip.\n"
     ]
    },
    {
     "data": {
      "text/plain": [
       "True"
      ]
     },
     "execution_count": 6,
     "metadata": {},
     "output_type": "execute_result"
    }
   ],
   "source": [
    "import nltk\n",
    "nltk.download('maxent_ne_chunker')\n",
    "nltk.download('words')\n",
    "nltk.download('punkt')\n",
    "nltk.download('maxent_ne_chunker_tab')"
   ]
  },
  {
   "cell_type": "code",
   "execution_count": 3,
   "metadata": {},
   "outputs": [],
   "source": [
    "business_document = '''\n",
    "The recent feedback from Acme Corp highlighted issues with the new model of the Omega widget.\n",
    "Customers from New York and San Francisco have reported delays in shipping.\n",
    "The CEO of Acme Corp, Jane Doe, mentioned plans to address these concerns by Q3.\n",
    "'''"
   ]
  },
  {
   "cell_type": "code",
   "execution_count": 4,
   "metadata": {},
   "outputs": [
    {
     "name": "stdout",
     "output_type": "stream",
     "text": [
      "['The', 'recent', 'feedback', 'from', 'Acme', 'Corp', 'highlighted', 'issues', 'with', 'the', 'new', 'model', 'of', 'the', 'Omega', 'widget', '.', 'Customers', 'from', 'New', 'York', 'and', 'San', 'Francisco', 'have', 'reported', 'delays', 'in', 'shipping', '.', 'The', 'CEO', 'of', 'Acme', 'Corp', ',', 'Jane', 'Doe', ',', 'mentioned', 'plans', 'to', 'address', 'these', 'concerns', 'by', 'Q3', '.']\n"
     ]
    }
   ],
   "source": [
    "# tokenizing the document\n",
    "tokens = nltk.word_tokenize(business_document)\n",
    "print(tokens)"
   ]
  },
  {
   "cell_type": "code",
   "execution_count": 11,
   "metadata": {},
   "outputs": [
    {
     "name": "stdout",
     "output_type": "stream",
     "text": [
      "Named Entities\n",
      "Acme Corp\n",
      "Omega\n",
      "New York\n",
      "San Francisco\n",
      "CEO of Acme Corp\n",
      "Jane Doe\n"
     ]
    }
   ],
   "source": [
    "# Applying NER\n",
    "\n",
    "ner_result = nltk.ne_chunk(nltk.pos_tag(tokens))\n",
    "# print(ner_result)\n",
    "\n",
    "# print named entities\n",
    "print('Named Entities')\n",
    "\n",
    "for entity in ner_result:\n",
    "    if isinstance(entity, nltk.Tree):\n",
    "        print(' '.join([word for word, tag in entity.leaves()]))\n"
   ]
  },
  {
   "cell_type": "code",
   "execution_count": 12,
   "metadata": {},
   "outputs": [
    {
     "name": "stdout",
     "output_type": "stream",
     "text": [
      "\n",
      "Named Entities with categories\n",
      "Acme Corp: PERSON\n",
      "Omega: GPE\n",
      "New York: GPE\n",
      "San Francisco: PERSON\n",
      "CEO of Acme Corp: ORGANIZATION\n",
      "Jane Doe: PERSON\n"
     ]
    }
   ],
   "source": [
    "# Print named entities along with their categories\n",
    "\n",
    "print('\\nNamed Entities with categories')\n",
    "\n",
    "for entity in ner_result:\n",
    "    if isinstance(entity, nltk.Tree):\n",
    "        entity_name = \" \".join([word for word, tag in entity.leaves()])\n",
    "        \n",
    "        entity_category = entity.label()\n",
    "        \n",
    "        print(f'{entity_name}: {entity_category}')"
   ]
  },
  {
   "cell_type": "code",
   "execution_count": 13,
   "metadata": {},
   "outputs": [
    {
     "name": "stdout",
     "output_type": "stream",
     "text": [
      "Words and POS Tags:\n",
      "The: DT\n",
      "recent: JJ\n",
      "feedback: NN\n",
      "from: IN\n",
      "Acme: NNP\n",
      "Corp: NNP\n",
      "highlighted: VBD\n",
      "issues: NNS\n",
      "with: IN\n",
      "the: DT\n",
      "new: JJ\n",
      "model: NN\n",
      "of: IN\n",
      "the: DT\n",
      "Omega: NNP\n",
      "widget: NN\n",
      ".: .\n",
      "Customers: NNS\n",
      "from: IN\n",
      "New: NNP\n",
      "York: NNP\n",
      "and: CC\n",
      "San: NNP\n",
      "Francisco: NNP\n",
      "have: VBP\n",
      "reported: VBN\n",
      "delays: NNS\n",
      "in: IN\n",
      "shipping: NN\n",
      ".: .\n",
      "The: DT\n",
      "CEO: NN\n",
      "of: IN\n",
      "Acme: NNP\n",
      "Corp: NNP\n",
      ",: ,\n",
      "Jane: NNP\n",
      "Doe: NNP\n",
      ",: ,\n",
      "mentioned: VBD\n",
      "plans: NNS\n",
      "to: TO\n",
      "address: VB\n",
      "these: DT\n",
      "concerns: NNS\n",
      "by: IN\n",
      "Q3: NNP\n",
      ".: .\n"
     ]
    }
   ],
   "source": [
    "# Applying POS tagging\n",
    "pos_tags = nltk.pos_tag(tokens)\n",
    "\n",
    "# Print words and their POS tags\n",
    "print(\"Words and POS Tags:\")\n",
    "\n",
    "for word, tag in pos_tags:\n",
    "    print(f'{word}: {tag}')"
   ]
  },
  {
   "cell_type": "code",
   "execution_count": null,
   "metadata": {},
   "outputs": [],
   "source": []
  }
 ],
 "metadata": {
  "kernelspec": {
   "display_name": "Python 3",
   "language": "python",
   "name": "python3"
  },
  "language_info": {
   "codemirror_mode": {
    "name": "ipython",
    "version": 3
   },
   "file_extension": ".py",
   "mimetype": "text/x-python",
   "name": "python",
   "nbconvert_exporter": "python",
   "pygments_lexer": "ipython3",
   "version": "3.12.0"
  }
 },
 "nbformat": 4,
 "nbformat_minor": 2
}
