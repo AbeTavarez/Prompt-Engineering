{
 "cells": [
  {
   "cell_type": "code",
   "execution_count": 8,
   "metadata": {},
   "outputs": [
    {
     "data": {
      "text/plain": [
       "True"
      ]
     },
     "execution_count": 8,
     "metadata": {},
     "output_type": "execute_result"
    }
   ],
   "source": [
    "from langchain.chains import LLMChain \n",
    "from langchain.prompts import PromptTemplate\n",
    "from langchain.llms import OpenAI\n",
    "from dotenv import load_dotenv\n",
    "# import os\n",
    "\n",
    "# Load all env-variables\n",
    "load_dotenv()"
   ]
  },
  {
   "cell_type": "code",
   "execution_count": 10,
   "metadata": {},
   "outputs": [],
   "source": [
    "# Initialize OpenAI LLM\n",
    "llm = OpenAI()\n",
    "\n",
    "# Create a prompt template for FAQs\n",
    "prompt_template = PromptTemplate(\n",
    "    input_variables=['query'],\n",
    "    template=\"Customer Query: {query}\\n\\nResponse\"\n",
    ")\n",
    "\n",
    "# Initialize Chain with LLM and Prompt Template\n",
    "chain = LLMChain(llm=llm, prompt=prompt_template)"
   ]
  },
  {
   "cell_type": "code",
   "execution_count": 12,
   "metadata": {},
   "outputs": [
    {
     "name": "stdout",
     "output_type": "stream",
     "text": [
      "Response:  {'query': 'What are your business hours?', 'text': ': Our business hours are Monday-Friday 9am-5pm and Saturday 10am-2pm. We are closed on Sundays and major holidays.'}\n"
     ]
    }
   ],
   "source": [
    "# Test with a sample query\n",
    "sample_query = \"What are your business hours?\"\n",
    "\n",
    "response = chain({\n",
    "    \"query\": sample_query\n",
    "})\n",
    "\n",
    "print('Response: ', response)"
   ]
  },
  {
   "cell_type": "code",
   "execution_count": null,
   "metadata": {},
   "outputs": [],
   "source": []
  }
 ],
 "metadata": {
  "kernelspec": {
   "display_name": "langchain-7sWpT4IG",
   "language": "python",
   "name": "python3"
  },
  "language_info": {
   "codemirror_mode": {
    "name": "ipython",
    "version": 3
   },
   "file_extension": ".py",
   "mimetype": "text/x-python",
   "name": "python",
   "nbconvert_exporter": "python",
   "pygments_lexer": "ipython3",
   "version": "3.11.5"
  }
 },
 "nbformat": 4,
 "nbformat_minor": 2
}
