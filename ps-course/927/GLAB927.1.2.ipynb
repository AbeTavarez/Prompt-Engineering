{
 "cells": [
  {
   "cell_type": "code",
   "execution_count": 3,
   "metadata": {},
   "outputs": [],
   "source": [
    "# !pip install nltk"
   ]
  },
  {
   "cell_type": "code",
   "execution_count": 8,
   "metadata": {},
   "outputs": [
    {
     "name": "stderr",
     "output_type": "stream",
     "text": [
      "[nltk_data] Downloading package punkt to\n",
      "[nltk_data]     C:\\Users\\Abraham\\AppData\\Roaming\\nltk_data...\n",
      "[nltk_data]   Package punkt is already up-to-date!\n",
      "[nltk_data] Downloading package punkt_tab to\n",
      "[nltk_data]     C:\\Users\\Abraham\\AppData\\Roaming\\nltk_data...\n"
     ]
    },
    {
     "name": "stdout",
     "output_type": "stream",
     "text": [
      "NLTK library successfully imported. NLTK version: 3.9.1\n"
     ]
    },
    {
     "name": "stderr",
     "output_type": "stream",
     "text": [
      "[nltk_data]   Unzipping tokenizers\\punkt_tab.zip.\n"
     ]
    }
   ],
   "source": [
    "# Importing NLTK library\n",
    "import nltk\n",
    "\n",
    "# download punkt\n",
    "nltk.download('punkt') # https://www.nltk.org/api/nltk.tokenize.punkt.html#module-nltk.tokenize.punkt\n",
    "nltk.download('punkt_tab')\n",
    "\n",
    "# Checking NLTK version\n",
    "nltk_version = nltk.__version__\n",
    "# Print confirmation message and NLTK version\n",
    "print(f\"NLTK library successfully imported. NLTK version: {nltk_version}\")\n"
   ]
  },
  {
   "cell_type": "code",
   "execution_count": 9,
   "metadata": {},
   "outputs": [
    {
     "name": "stdout",
     "output_type": "stream",
     "text": [
      "Original Email Content: Our team will be working on the upcoming project deadlines. Please ensure that all deliverables are submitted before the end of the week.\n",
      "Stemmed Email Content: our team will be work on the upcom project deadlin . pleas ensur that all deliver are submit befor the end of the week .\n"
     ]
    }
   ],
   "source": [
    "from nltk.stem import PorterStemmer\n",
    "\n",
    "# Sample email content for stemming\n",
    "email_content = \"Our team will be working on the upcoming project deadlines. Please ensure that all deliverables are submitted before the end of the week.\"\n",
    "\n",
    "# Create a Porter Stemmer instance\n",
    "porter_stemmer = PorterStemmer()\n",
    "\n",
    "# Apply stemming to each word in the email content\n",
    "stemmed_words = [porter_stemmer.stem(word) for word in nltk.word_tokenize(email_content)]\n",
    "\n",
    "# Print the original and stemmed text\n",
    "print(\"Original Email Content:\", email_content)\n",
    "print(\"Stemmed Email Content:\", \" \".join(stemmed_words))"
   ]
  },
  {
   "cell_type": "code",
   "execution_count": 11,
   "metadata": {},
   "outputs": [
    {
     "name": "stderr",
     "output_type": "stream",
     "text": [
      "[nltk_data] Downloading package wordnet to\n",
      "[nltk_data]     C:\\Users\\Abraham\\AppData\\Roaming\\nltk_data...\n"
     ]
    },
    {
     "name": "stdout",
     "output_type": "stream",
     "text": [
      "Original Email Content: The team members are working on their tasks diligently. Please ensure that every report is submitted promptly.\n",
      "Lemmatized Email Content: The team member are working on their task diligently . Please ensure that every report is submitted promptly .\n"
     ]
    }
   ],
   "source": [
    "from nltk.stem import WordNetLemmatizer\n",
    "nltk.download('wordnet') # <--- Word db https://www.nltk.org/api/nltk.stem.wordnet.html#module-nltk.stem.wordnet\n",
    "# Sample email content for lemmatization\n",
    "email_content_lemma = \"The team members are working on their tasks diligently. Please ensure that every report is submitted promptly.\"\n",
    "\n",
    "# Create a WordNet Lemmatizer instance\n",
    "lemmatizer = WordNetLemmatizer()\n",
    "\n",
    "# Apply lemmatization to each word in the email content\n",
    "lemmatized_words = [lemmatizer.lemmatize(word) for word in nltk.word_tokenize(email_content_lemma)]\n",
    "\n",
    "# Print the original and lemmatized text\n",
    "print(\"Original Email Content:\", email_content_lemma)\n",
    "print(\"Lemmatized Email Content:\", \" \".join(lemmatized_words))"
   ]
  },
  {
   "cell_type": "code",
   "execution_count": null,
   "metadata": {},
   "outputs": [],
   "source": []
  }
 ],
 "metadata": {
  "kernelspec": {
   "display_name": ".venv",
   "language": "python",
   "name": "python3"
  },
  "language_info": {
   "codemirror_mode": {
    "name": "ipython",
    "version": 3
   },
   "file_extension": ".py",
   "mimetype": "text/x-python",
   "name": "python",
   "nbconvert_exporter": "python",
   "pygments_lexer": "ipython3",
   "version": "3.12.0"
  }
 },
 "nbformat": 4,
 "nbformat_minor": 2
}
