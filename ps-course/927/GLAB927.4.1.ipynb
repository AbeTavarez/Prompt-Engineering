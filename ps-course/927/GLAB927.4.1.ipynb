{
 "cells": [
  {
   "cell_type": "code",
   "execution_count": 2,
   "metadata": {},
   "outputs": [],
   "source": [
    "# pip install textblob"
   ]
  },
  {
   "cell_type": "markdown",
   "metadata": {},
   "source": [
    "TextBlob is a Python library for processing textual data. It provides a simple API for diving into common natural language processing (NLP) tasks such as part-of-speech tagging, noun phrase extraction, sentiment analysis, classification, and more.\n",
    "Docs: https://textblob.readthedocs.io/en/dev/"
   ]
  },
  {
   "cell_type": "code",
   "execution_count": 3,
   "metadata": {},
   "outputs": [],
   "source": [
    "from textblob import TextBlob"
   ]
  },
  {
   "cell_type": "code",
   "execution_count": 4,
   "metadata": {},
   "outputs": [
    {
     "name": "stdout",
     "output_type": "stream",
     "text": [
      "TextBlob library successfully imported. Sample text: TextBlob is successfully installed and ready to use!\n"
     ]
    }
   ],
   "source": [
    "# Sample text for checking TextBlob installation\n",
    "sample_text = \"TextBlob is successfully installed and ready to use!\"\n",
    "\n",
    "print(f\"TextBlob library successfully imported. Sample text: {sample_text}\")"
   ]
  },
  {
   "cell_type": "markdown",
   "metadata": {},
   "source": [
    "Task: Implementing Sentiment Analysis"
   ]
  },
  {
   "cell_type": "code",
   "execution_count": 6,
   "metadata": {},
   "outputs": [
    {
     "name": "stdout",
     "output_type": "stream",
     "text": [
      "Original Text: I absolutely love this product! The quality is excellent and it arrived on time.\n",
      "Sentiment Analysis Result:\n",
      "Polarity: 0.8125\n",
      "Subjectivity: 0.8\n",
      "Tags:  [('I', 'PRP'), ('absolutely', 'RB'), ('love', 'VBP'), ('this', 'DT'), ('product', 'NN'), ('The', 'DT'), ('quality', 'NN'), ('is', 'VBZ'), ('excellent', 'JJ'), ('and', 'CC'), ('it', 'PRP'), ('arrived', 'VBD'), ('on', 'IN'), ('time', 'NN')]\n"
     ]
    }
   ],
   "source": [
    "sample_text1 = \"I absolutely love this product! The quality is excellent and it arrived on time.\"\n",
    "\n",
    "# Create a Textblob object\n",
    "blob = TextBlob(sample_text1)\n",
    "\n",
    "# Perform Sentiment analysis\n",
    "sentiment = blob.sentiment\n",
    "\n",
    "# Print the original text and sentiment analysis results\n",
    "print(\"Original Text:\", sample_text1)\n",
    "print(\"Sentiment Analysis Result:\")\n",
    "print(\"Polarity:\", sentiment.polarity)  # Range from -1 (negative) to 1 (positive)\n",
    "print(\"Subjectivity:\", sentiment.subjectivity)  # Range from 0 (objective) to 1 (subjective)\n",
    "\n",
    "# Tags\n",
    "print('Tags: ',blob.tags)"
   ]
  },
  {
   "cell_type": "markdown",
   "metadata": {},
   "source": [
    "Task: Analyzing Business Communication Data"
   ]
  },
  {
   "cell_type": "code",
   "execution_count": 7,
   "metadata": {},
   "outputs": [
    {
     "name": "stdout",
     "output_type": "stream",
     "text": [
      "Feedback: The service was fantastic and the staff was very helpful.\n",
      "Sentiment Polarity: 0.30000000000000004\n",
      "--------------------\n",
      "Feedback: I am unhappy with the product quality and delivery was delayed.\n",
      "Sentiment Polarity: -0.6\n",
      "--------------------\n",
      "Feedback: The product is okay, but it could be improved.\n",
      "Sentiment Polarity: 0.5\n",
      "--------------------\n",
      "Feedback: Amazing experience! I am very satisfied with my purchase.\n",
      "Sentiment Polarity: 0.7000000000000001\n",
      "--------------------\n"
     ]
    }
   ],
   "source": [
    "# Sample customer feedback comments\n",
    "feedback_comments = [\n",
    "    \"The service was fantastic and the staff was very helpful.\",\n",
    "    \"I am unhappy with the product quality and delivery was delayed.\",\n",
    "    \"The product is okay, but it could be improved.\",\n",
    "    \"Amazing experience! I am very satisfied with my purchase.\"\n",
    "]\n",
    "\n",
    "# Function to analyze sentiment of each comment\n",
    "def analyze_sentiment(text):\n",
    "    \"\"\"Function to analyze sentiment of each comment\"\"\"\n",
    "    \n",
    "    blob = TextBlob(text)\n",
    "    return blob.sentiment.polarity\n",
    "\n",
    "# Analyze and print sentiment for each feedback comment\n",
    "for comment in feedback_comments:\n",
    "    sentiment = analyze_sentiment(comment)\n",
    "    print(f\"Feedback: {comment}\")\n",
    "    print(f\"Sentiment Polarity: {sentiment}\")\n",
    "    print('--------------------')\n"
   ]
  }
 ],
 "metadata": {
  "kernelspec": {
   "display_name": "Python 3",
   "language": "python",
   "name": "python3"
  },
  "language_info": {
   "codemirror_mode": {
    "name": "ipython",
    "version": 3
   },
   "file_extension": ".py",
   "mimetype": "text/x-python",
   "name": "python",
   "nbconvert_exporter": "python",
   "pygments_lexer": "ipython3",
   "version": "3.12.0"
  }
 },
 "nbformat": 4,
 "nbformat_minor": 2
}
