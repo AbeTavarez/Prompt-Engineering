{
  "cells": [
    {
      "cell_type": "code",
      "execution_count": 3,
      "metadata": {
        "colab": {
          "base_uri": "https://localhost:8080/"
        },
        "id": "BJ6AyR5OSmMU",
        "outputId": "ebd590aa-55b4-4716-8589-156cb541b846"
      },
      "outputs": [
        {
          "name": "stderr",
          "output_type": "stream",
          "text": [
            "[nltk_data] Downloading package averaged_perceptron_tagger to\n",
            "[nltk_data]     C:\\Users\\Abraham\\AppData\\Roaming\\nltk_data...\n",
            "[nltk_data]   Package averaged_perceptron_tagger is already up-to-\n",
            "[nltk_data]       date!\n",
            "[nltk_data] Downloading package averaged_perceptron_tagger_eng to\n",
            "[nltk_data]     C:\\Users\\Abraham\\AppData\\Roaming\\nltk_data...\n",
            "[nltk_data]   Package averaged_perceptron_tagger_eng is already up-to-\n",
            "[nltk_data]       date!\n",
            "[nltk_data] Downloading package wordnet to\n",
            "[nltk_data]     C:\\Users\\Abraham\\AppData\\Roaming\\nltk_data...\n",
            "[nltk_data]   Package wordnet is already up-to-date!\n"
          ]
        },
        {
          "data": {
            "text/plain": [
              "True"
            ]
          },
          "execution_count": 3,
          "metadata": {},
          "output_type": "execute_result"
        }
      ],
      "source": [
        "import nltk\n",
        "from nltk.stem import PorterStemmer, WordNetLemmatizer\n",
        "from nltk.corpus import wordnet\n",
        "nltk.download('averaged_perceptron_tagger')\n",
        "nltk.download('averaged_perceptron_tagger_eng')\n",
        "nltk.download('wordnet')"
      ]
    },
    {
      "cell_type": "code",
      "execution_count": 4,
      "metadata": {
        "id": "xGARuvzrSp25"
      },
      "outputs": [],
      "source": [
        "text = 'The quick brown fox jumps over the lazy dog'"
      ]
    },
    {
      "cell_type": "code",
      "execution_count": 5,
      "metadata": {
        "id": "QIe54IxuS57L"
      },
      "outputs": [],
      "source": [
        "porter = PorterStemmer()\n",
        "stemmed_words = []\n"
      ]
    },
    {
      "cell_type": "code",
      "execution_count": 6,
      "metadata": {
        "id": "8v9nq3c2TB01"
      },
      "outputs": [],
      "source": [
        "for word in text.split():\n",
        "  stemmed_words.append(porter.stem(word))"
      ]
    },
    {
      "cell_type": "code",
      "execution_count": 7,
      "metadata": {
        "colab": {
          "base_uri": "https://localhost:8080/"
        },
        "id": "Y5SkG_K5TMOS",
        "outputId": "fbf75a07-bc2c-41da-9acc-93a8629ad306"
      },
      "outputs": [
        {
          "name": "stdout",
          "output_type": "stream",
          "text": [
            "Stemmed Words:  ['the', 'quick', 'brown', 'fox', 'jump', 'over', 'the', 'lazi', 'dog']\n"
          ]
        }
      ],
      "source": [
        "print('Stemmed Words: ', stemmed_words)"
      ]
    },
    {
      "cell_type": "code",
      "execution_count": 8,
      "metadata": {
        "id": "DGFA9jU8TRdV"
      },
      "outputs": [],
      "source": [
        "wordnet_lemmatizer = WordNetLemmatizer()\n",
        "lemmatized_words = []"
      ]
    },
    {
      "cell_type": "code",
      "execution_count": 9,
      "metadata": {
        "colab": {
          "base_uri": "https://localhost:8080/"
        },
        "id": "rYpqUThRUDg5",
        "outputId": "3689f11b-77a9-471f-e8de-94b947985c7b"
      },
      "outputs": [],
      "source": [
        "# POS_TAG THROWS ERROR\n",
        "# for word, pos in nltk.pos_tag(text.split()):\n",
        "#     print(word, pos)\n",
        "#     lemmatized_words.append(wordnet_lemmatizer.lemmatize(word, pos))"
      ]
    },
    {
      "cell_type": "code",
      "execution_count": 13,
      "metadata": {},
      "outputs": [
        {
          "name": "stdout",
          "output_type": "stream",
          "text": [
            "['The', 'quick', 'brown', 'fox', 'jump', 'over', 'the', 'lazy', 'dog']\n"
          ]
        }
      ],
      "source": [
        "# THIS WORDS WITH NO POST_TAG AND RESULT IS MORE SEMANTIC\n",
        "lemmatized_words_test = []\n",
        "for word in text.split():\n",
        "    lemmatized_words_test.append(wordnet_lemmatizer.lemmatize(word))\n",
        "\n",
        "print(lemmatized_words_test)"
      ]
    },
    {
      "cell_type": "code",
      "execution_count": 33,
      "metadata": {
        "id": "LH8cueuxTmb2"
      },
      "outputs": [
        {
          "name": "stdout",
          "output_type": "stream",
          "text": [
            "The DT\n",
            "n\n",
            "quick JJ\n",
            "a\n",
            "brown NN\n",
            "n\n",
            "fox NN\n",
            "n\n",
            "jumps VBZ\n",
            "v\n",
            "over IN\n",
            "n\n",
            "the DT\n",
            "n\n",
            "lazy JJ\n",
            "a\n",
            "dog NN\n",
            "n\n"
          ]
        }
      ],
      "source": [
        "# HELPER FIX THE  FORMAT FOR WORDNET\n",
        "def get_wordnet_pos(treebank_tag):\n",
        "    \"\"\"Convert Treebank part-of-speech tags to WordNet part-of-speech tags.\"\"\"\n",
        "    if treebank_tag.startswith('J'):\n",
        "        return wordnet.ADJ\n",
        "    elif treebank_tag.startswith('V'):\n",
        "        return wordnet.VERB\n",
        "    elif treebank_tag.startswith('N'):\n",
        "        return wordnet.NOUN\n",
        "    elif treebank_tag.startswith('R'):\n",
        "        return wordnet.ADV\n",
        "    else:\n",
        "        return wordnet.NOUN # Default to noun if no match is found\n",
        "\n",
        "for word, pos in nltk.pos_tag(text.split()):\n",
        "    print(word, pos)\n",
        "    wordnet_pos = get_wordnet_pos(pos) # Convert the pos tag to WordNet format\n",
        "    print(wordnet_pos)\n",
        "    lemmatized_words.append(wordnet_lemmatizer.lemmatize(word, wordnet_pos))"
      ]
    },
    {
      "cell_type": "code",
      "execution_count": 34,
      "metadata": {},
      "outputs": [
        {
          "name": "stdout",
          "output_type": "stream",
          "text": [
            "Lemmatized Words:  ['The', 'quick', 'brown', 'fox', 'jump', 'over', 'the', 'lazy', 'dog', 'The', 'quick', 'brown', 'fox', 'jump', 'over', 'the', 'lazy', 'dog', 'The', 'quick', 'brown', 'fox', 'jump', 'over', 'the', 'lazy', 'dog', 'The', 'quick', 'brown', 'fox', 'jump', 'over', 'the', 'lazy', 'dog', 'The', 'quick', 'brown', 'fox', 'jump', 'over', 'the', 'lazy', 'dog']\n"
          ]
        }
      ],
      "source": [
        "print('Lemmatized Words: ', lemmatized_words)"
      ]
    },
    {
      "cell_type": "code",
      "execution_count": 35,
      "metadata": {
        "id": "OXs8oNH-WwMz"
      },
      "outputs": [
        {
          "name": "stdout",
          "output_type": "stream",
          "text": [
            "Stemmed Words:  ['the', 'quick', 'brown', 'fox', 'jump', 'over', 'the', 'lazi', 'dog'] Lemmatized Words:  ['The', 'quick', 'brown', 'fox', 'jump', 'over', 'the', 'lazy', 'dog', 'The', 'quick', 'brown', 'fox', 'jump', 'over', 'the', 'lazy', 'dog', 'The', 'quick', 'brown', 'fox', 'jump', 'over', 'the', 'lazy', 'dog', 'The', 'quick', 'brown', 'fox', 'jump', 'over', 'the', 'lazy', 'dog', 'The', 'quick', 'brown', 'fox', 'jump', 'over', 'the', 'lazy', 'dog']\n"
          ]
        }
      ],
      "source": [
        "print('Stemmed Words: ', stemmed_words, 'Lemmatized Words: ', lemmatized_words)"
      ]
    },
    {
      "cell_type": "code",
      "execution_count": null,
      "metadata": {},
      "outputs": [],
      "source": []
    }
  ],
  "metadata": {
    "colab": {
      "provenance": []
    },
    "kernelspec": {
      "display_name": "Python 3",
      "name": "python3"
    },
    "language_info": {
      "codemirror_mode": {
        "name": "ipython",
        "version": 3
      },
      "file_extension": ".py",
      "mimetype": "text/x-python",
      "name": "python",
      "nbconvert_exporter": "python",
      "pygments_lexer": "ipython3",
      "version": "3.12.0"
    }
  },
  "nbformat": 4,
  "nbformat_minor": 0
}
